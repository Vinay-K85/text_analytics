{
 "cells": [
  {
   "cell_type": "markdown",
   "metadata": {},
   "source": [
    "# Grouping Similar Text"
   ]
  },
  {
   "cell_type": "code",
   "execution_count": 1,
   "metadata": {},
   "outputs": [
    {
     "name": "stdout",
     "output_type": "stream",
     "text": [
      "Downloading data from https://storage.googleapis.com/tensorflow/tf-keras-datasets/reuters.npz\n",
      "2113536/2110848 [==============================] - 90s 43us/step\n"
     ]
    }
   ],
   "source": [
    "# Importing and reading the dataset\n",
    "import warnings\n",
    "warnings.filterwarnings(\"ignore\")\n",
    "\n",
    "from keras.datasets import reuters\n",
    "(x_trg, y_trg), (x_test, y_test) = reuters.load_data()"
   ]
  },
  {
   "cell_type": "code",
   "execution_count": 2,
   "metadata": {},
   "outputs": [
    {
     "name": "stdout",
     "output_type": "stream",
     "text": [
      "Training data:  (8982, 200)\n",
      "Test data:  (2246, 200)\n"
     ]
    }
   ],
   "source": [
    "# Converting sequence\n",
    "from keras.preprocessing import sequence\n",
    "\n",
    "x_trg = sequence.pad_sequences(x_trg, maxlen = 200)\n",
    "x_test = sequence.pad_sequences(x_test, maxlen = 200)\n",
    "print(\"Training data: \", x_trg.shape)\n",
    "print(\"Test data: \", x_test.shape)"
   ]
  },
  {
   "cell_type": "markdown",
   "metadata": {},
   "source": [
    "#### Logistic Regression model"
   ]
  },
  {
   "cell_type": "code",
   "execution_count": 7,
   "metadata": {},
   "outputs": [
    {
     "name": "stdout",
     "output_type": "stream",
     "text": [
      "The accuracy of LR model is:  0.3045414069456812\n",
      "\n",
      "\n",
      "Confusion Matrix of LR model is: \n",
      " [[1 0 1 ... 0 0 0]\n",
      " [2 1 2 ... 0 0 0]\n",
      " [1 0 0 ... 0 0 0]\n",
      " ...\n",
      " [0 0 0 ... 2 0 0]\n",
      " [0 0 0 ... 0 4 0]\n",
      " [0 0 0 ... 0 0 0]]\n"
     ]
    }
   ],
   "source": [
    "from sklearn.linear_model import LogisticRegression\n",
    "from sklearn.metrics import confusion_matrix, accuracy_score\n",
    "\n",
    "lr_model = LogisticRegression(random_state = 42)\n",
    "lr_model.fit(x_trg, y_trg)\n",
    "\n",
    "# Prediction\n",
    "lr_model_pred = lr_model.predict(x_test)\n",
    "\n",
    "# Compute the accuracy of LR model\n",
    "lr_model_acc_score = accuracy_score(y_test, lr_model_pred)\n",
    "print(\"The accuracy of LR model is: \", lr_model_acc_score)\n",
    "print(\"\\n\")\n",
    "\n",
    "# Confusion matrix of LR model\n",
    "lr_model_results = confusion_matrix(y_test, lr_model_pred)\n",
    "print(\"Confusion Matrix of LR model is: \\n\", lr_model_results)"
   ]
  },
  {
   "cell_type": "markdown",
   "metadata": {},
   "source": [
    "#### Random Forest model"
   ]
  },
  {
   "cell_type": "code",
   "execution_count": 8,
   "metadata": {},
   "outputs": [
    {
     "name": "stdout",
     "output_type": "stream",
     "text": [
      "The accuracy of RF model is:  0.5178094390026714\n",
      "\n",
      "\n",
      "Confusion Matrix of RF model is: \n",
      " [[1 0 0 ... 0 0 0]\n",
      " [0 6 0 ... 0 0 0]\n",
      " [0 0 0 ... 0 0 0]\n",
      " ...\n",
      " [0 0 0 ... 2 0 0]\n",
      " [0 0 0 ... 0 4 0]\n",
      " [0 0 0 ... 0 0 1]]\n"
     ]
    }
   ],
   "source": [
    "from sklearn.ensemble import RandomForestClassifier\n",
    "\n",
    "rf_model = RandomForestClassifier(n_estimators = 500, random_state = 42)\n",
    "rf_model.fit(x_trg, y_trg)\n",
    "\n",
    "# Prediction\n",
    "rf_model_pred = rf_model.predict(x_test)\n",
    "\n",
    "# Computation of accuracy of RF model\n",
    "rf_model_acc_score = accuracy_score(y_test, rf_model_pred)\n",
    "print(\"The accuracy of RF model is: \", rf_model_acc_score)\n",
    "print(\"\\n\")\n",
    "\n",
    "# Confusion matrix of RF model\n",
    "rf_model_results = confusion_matrix(y_test, rf_model_pred)\n",
    "print(\"Confusion Matrix of RF model is: \\n\", rf_model_results)"
   ]
  },
  {
   "cell_type": "markdown",
   "metadata": {},
   "source": [
    "We can also try other supervised machine learning models learnt so far then we can check which one peforms better. From above two model devleoped we can see the RF model is much better than LR model."
   ]
  }
 ],
 "metadata": {
  "kernelspec": {
   "display_name": "Python 3",
   "language": "python",
   "name": "python3"
  },
  "language_info": {
   "codemirror_mode": {
    "name": "ipython",
    "version": 3
   },
   "file_extension": ".py",
   "mimetype": "text/x-python",
   "name": "python",
   "nbconvert_exporter": "python",
   "pygments_lexer": "ipython3",
   "version": "3.8.6"
  }
 },
 "nbformat": 4,
 "nbformat_minor": 4
}
